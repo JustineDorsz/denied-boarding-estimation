{
 "cells": [
  {
   "cell_type": "code",
   "execution_count": 1,
   "metadata": {},
   "outputs": [],
   "source": [
    "import f2b\n",
    "from data import Data\n",
    "from likelihood import compute_likelihood_blocks, transition_probability, log_likelihood_global"
   ]
  },
  {
   "cell_type": "code",
   "execution_count": 2,
   "metadata": {},
   "outputs": [],
   "source": [
    "def load_estimated_f2b(station: str, morning_peak: bool) -> list:\n",
    "    if morning_peak:\n",
    "        f2b_file_path = \"/home/justine/Nextcloud/Cired/Recherche/Econometrie/fail_to_board_probability/f2b_code/f2b/output/f2b_results_morning_peak_\" + station + \".csv\"\n",
    "    else:\n",
    "        f2b_file_path = \"/home/justine/Nextcloud/Cired/Recherche/Econometrie/fail_to_board_probability/f2b_code/f2b/output/f2b_results_\" + station + \".csv\"\n",
    "\n",
    "    with open(f2b_file_path, \"r\") as f2b_file:\n",
    "        f2b_file_content = f2b_file.read()\n",
    "        f2b_estimated = f2b_file_content.split(\",\")\n",
    "        f2b_estimated = [float(f2b) for f2b in f2b_estimated]\n",
    "        return f2b_estimated"
   ]
  },
  {
   "cell_type": "code",
   "execution_count": 3,
   "metadata": {},
   "outputs": [],
   "source": [
    "def transition_probability_partial_diff(\n",
    "    trip_id: int,\n",
    "    data: Data,\n",
    "    boarded_run: str,\n",
    "    headway_run: str,\n",
    "    f2b_probabilities: list,\n",
    "    partial_diff_component: int,\n",
    ") -> float:\n",
    "    \"\"\"Function returning the probability of boarding boarded_run\n",
    "    when arriving at headway_run according to the f2b_probability.\"\"\"\n",
    "\n",
    "    headway_run_index = data.runs.index(headway_run)\n",
    "    boarded_run_index = data.runs.index(boarded_run)\n",
    "    \n",
    "    if partial_diff_component >= headway_run_index and partial_diff_component < boarded_run_index:\n",
    "        failure_probability = 1\n",
    "\n",
    "        # relative indexing in the list of feasible runs in\n",
    "        # chronological order for each trip.\n",
    "        trip_headway_run_relative_index = data.feasible_runs_by_trip[trip_id].index(\n",
    "            headway_run\n",
    "        )\n",
    "        trip_boarded_run_relative_index = data.feasible_runs_by_trip[trip_id].index(\n",
    "            boarded_run\n",
    "        )\n",
    "\n",
    "        for missed_run in data.feasible_runs_by_trip[trip_id][\n",
    "            trip_headway_run_relative_index:trip_boarded_run_relative_index\n",
    "        ]:\n",
    "            missed_run_index = data.runs.index(missed_run)\n",
    "            if missed_run_index != partial_diff_component:\n",
    "                failure_probability = (\n",
    "                    f2b_probabilities[missed_run_index] * failure_probability\n",
    "                )\n",
    "        return (1 - f2b_probabilities[boarded_run_index]) * failure_probability\n",
    "\n",
    "    if partial_diff_component == boarded_run_index:\n",
    "        if headway_run == boarded_run:\n",
    "            return -1\n",
    "\n",
    "        else:\n",
    "            failure_probability = 1\n",
    "\n",
    "            # relative indexing in the list of feasible runs in\n",
    "            # chronological order for each trip.\n",
    "            trip_headway_run_relative_index = data.feasible_runs_by_trip[trip_id].index(\n",
    "                headway_run\n",
    "            )\n",
    "            trip_boarded_run_relative_index = data.feasible_runs_by_trip[trip_id].index(\n",
    "                boarded_run\n",
    "            )\n",
    "\n",
    "            for missed_run in data.feasible_runs_by_trip[trip_id][\n",
    "                trip_headway_run_relative_index:trip_boarded_run_relative_index\n",
    "            ]:\n",
    "                missed_run_index = data.runs.index(missed_run)\n",
    "                failure_probability = (\n",
    "                    f2b_probabilities[missed_run_index] * failure_probability\n",
    "                )\n",
    "            return (-1) * failure_probability\n",
    "\n",
    "    if partial_diff_component < headway_run_index or partial_diff_component > boarded_run_index:\n",
    "        return 0"
   ]
  },
  {
   "cell_type": "code",
   "execution_count": 4,
   "metadata": {},
   "outputs": [],
   "source": [
    "def indiv_log_likelihood_partial_diff(    \n",
    "    trip_id: int,\n",
    "    data: Data,\n",
    "    precomputed_blocks: dict,\n",
    "    f2b_probabilities: list,\n",
    "    diff_component: int,\n",
    "    ):\n",
    "    conditional_exit_duration_proba = 0.\n",
    "    conditional_exit_duration_proba_diff = 0.\n",
    "\n",
    "    for headway_boarded_pair in data.headway_boarded_run_pair_by_trip[trip_id]:\n",
    "        # Pairs are ordered (headway_run, boarded_run)\n",
    "        headway_run = headway_boarded_pair[0]\n",
    "        boarded_run = headway_boarded_pair[1]\n",
    "        block = precomputed_blocks[trip_id, headway_run, boarded_run]\n",
    "\n",
    "        \n",
    "        conditional_exit_duration_proba += (\n",
    "            transition_probability(\n",
    "                trip_id, data, boarded_run, headway_run, f2b_probabilities\n",
    "            )\n",
    "            * block\n",
    "        )\n",
    "        conditional_exit_duration_proba_diff += (\n",
    "            transition_probability_partial_diff(\n",
    "                trip_id, data, boarded_run, headway_run, f2b_probabilities, diff_component\n",
    "            )\n",
    "            * block\n",
    "        )\n",
    "\n",
    "    # Derivative of log(P(x) is P'(x)/P(x).\n",
    "    return conditional_exit_duration_proba_diff/conditional_exit_duration_proba"
   ]
  },
  {
   "cell_type": "code",
   "execution_count": 10,
   "metadata": {},
   "outputs": [
    {
     "name": "stdout",
     "output_type": "stream",
     "text": [
      "Get feasible runs...\n"
     ]
    },
    {
     "name": "stderr",
     "output_type": "stream",
     "text": [
      "100%|██████████| 8458/8458 [00:00<00:00, 8596.61it/s]\n"
     ]
    },
    {
     "name": "stdout",
     "output_type": "stream",
     "text": [
      "number of too long trips removed: 110\n",
      "Get runs info...\n"
     ]
    },
    {
     "name": "stderr",
     "output_type": "stream",
     "text": [
      "100%|██████████| 305/305 [00:01<00:00, 218.74it/s]\n"
     ]
    },
    {
     "name": "stdout",
     "output_type": "stream",
     "text": [
      "Order feasible run lists...\n"
     ]
    },
    {
     "name": "stderr",
     "output_type": "stream",
     "text": [
      "100%|██████████| 8336/8336 [00:00<00:00, 954614.70it/s]\n"
     ]
    },
    {
     "name": "stdout",
     "output_type": "stream",
     "text": [
      "Construct feasible run pairs...\n"
     ]
    },
    {
     "name": "stderr",
     "output_type": "stream",
     "text": [
      "100%|██████████| 8336/8336 [00:00<00:00, 535678.23it/s]\n"
     ]
    },
    {
     "name": "stdout",
     "output_type": "stream",
     "text": [
      "(Offline) Compute likelihood blocks...\n"
     ]
    },
    {
     "name": "stderr",
     "output_type": "stream",
     "text": [
      "100%|██████████| 8336/8336 [00:08<00:00, 936.73it/s] \n"
     ]
    }
   ],
   "source": [
    "from yaml import safe_load\n",
    "\n",
    "origin_station = \"VIN\"\n",
    "destination_stations = [\"NAT\",\"LYO\", \"CHL\", \"AUB\", \"ETO\", \"DEF\"]\n",
    "date = \"04/02/2020\"\n",
    "with open(f\"/home/justine/Nextcloud/Cired/Recherche/Econometrie/fail_to_board_probability/f2b_code/f2b/parameters_{origin_station}.yml\") as file:\n",
    "        parameters = safe_load(file)\n",
    "data = Data(date, origin_station, destination_stations)\n",
    "likelihood_blocks = compute_likelihood_blocks(data, parameters)\n"
   ]
  },
  {
   "cell_type": "code",
   "execution_count": 7,
   "metadata": {},
   "outputs": [],
   "source": [
    "f2b_start = [0 for _ in range(len(data.runs))]"
   ]
  },
  {
   "cell_type": "code",
   "execution_count": 11,
   "metadata": {},
   "outputs": [
    {
     "name": "stdout",
     "output_type": "stream",
     "text": [
      "-17.614410187621903\n"
     ]
    }
   ],
   "source": [
    "component = 256\n",
    "gradient_log_likelihood = 0\n",
    "for trip_id in data.trips.index:\n",
    "    gradient_log_likelihood += indiv_log_likelihood_partial_diff(trip_id, data, likelihood_blocks, f2b_start, component)\n",
    "print(gradient_log_likelihood)"
   ]
  },
  {
   "cell_type": "code",
   "execution_count": 25,
   "metadata": {},
   "outputs": [
    {
     "name": "stderr",
     "output_type": "stream",
     "text": [
      "100%|██████████| 305/305 [06:50<00:00,  1.35s/it]"
     ]
    },
    {
     "name": "stdout",
     "output_type": "stream",
     "text": [
      "-45755.3203279177\n"
     ]
    },
    {
     "name": "stderr",
     "output_type": "stream",
     "text": [
      "\n"
     ]
    }
   ],
   "source": [
    "from tqdm import tqdm\n",
    "# f2b = [x for x in f2b_estimated]\n",
    "for component in tqdm(range(len(f2b))):\n",
    "    f2b_left = [x for x in f2b]\n",
    "    f2b_right = [x for x in f2b]\n",
    "    f2b_left[component] = 0\n",
    "    f2b_right[component] = 0.99\n",
    "    derivative_left = 0\n",
    "    derivative_right = 0\n",
    "    for trip_id in data.trips.index:\n",
    "        derivative_left += indiv_log_likelihood_partial_diff(trip_id, data, likelihood_blocks, f2b_left, component)\n",
    "        derivative_right += indiv_log_likelihood_partial_diff(trip_id, data, likelihood_blocks, f2b_right, component)\n",
    "\n",
    "    if derivative_left*derivative_right >= 0:\n",
    "        # If the two derivatives have the same sign, we let the denied boarding probability to zero.\n",
    "        continue\n",
    "\n",
    "    for _ in range(20):\n",
    "        f2b_middle = [(f2b_left[i]+f2b_right[i])/2. for i in range(len(f2b))]\n",
    "        derivative_middle = 0\n",
    "        for trip_id in data.trips.index:\n",
    "            derivative_middle += indiv_log_likelihood_partial_diff(trip_id, data, likelihood_blocks, f2b_middle, component)\n",
    "        if derivative_left*derivative_middle <0:\n",
    "            f2b_right = [x for x in f2b_middle]\n",
    "            derivative_right = derivative_middle\n",
    "        elif derivative_right*derivative_middle <0:\n",
    "            f2b_left = [x for x in f2b_middle]\n",
    "            derivative_left = derivative_middle\n",
    "        else:\n",
    "            break\n",
    "    f2b = [x for x in f2b_middle]\n",
    "\n",
    "f2b_estimated = [x for x in f2b]\n",
    "print(log_likelihood_global(f2b_estimated, data, likelihood_blocks))"
   ]
  },
  {
   "cell_type": "code",
   "execution_count": 26,
   "metadata": {},
   "outputs": [
    {
     "data": {
      "image/png": "[encoded data removed]",
      "text/plain": [
       "<Figure size 432x288 with 1 Axes>"
      ]
     },
     "metadata": {
      "needs_background": "light"
     },
     "output_type": "display_data"
    },
    {
     "data": {
      "text/plain": [
       "0.09794955253601073"
      ]
     },
     "execution_count": 26,
     "metadata": {},
     "output_type": "execute_result"
    }
   ],
   "source": [
    "from matplotlib import pyplot\n",
    "pyplot.plot(f2b_estimated)\n",
    "pyplot.show()\n",
    "f2b_estimated[50]"
   ]
  },
  {
   "cell_type": "code",
   "execution_count": 18,
   "metadata": {},
   "outputs": [
    {
     "data": {
      "text/plain": [
       "-45787.55500429494"
      ]
     },
     "execution_count": 18,
     "metadata": {},
     "output_type": "execute_result"
    }
   ],
   "source": [
    "log_likelihood_global(f2b_estimated, data, likelihood_blocks)"
   ]
  },
  {
   "cell_type": "code",
   "execution_count": 29,
   "metadata": {},
   "outputs": [
    {
     "data": {
      "text/plain": [
       "-46662.43673206189"
      ]
     },
     "execution_count": 29,
     "metadata": {},
     "output_type": "execute_result"
    }
   ],
   "source": [
    "log_likelihood_global(f2b_estimated, data, likelihood_blocks)"
   ]
  },
  {
   "cell_type": "code",
   "execution_count": 15,
   "metadata": {},
   "outputs": [
    {
     "data": {
      "text/plain": [
       "-46561.9644566473"
      ]
     },
     "execution_count": 15,
     "metadata": {},
     "output_type": "execute_result"
    }
   ],
   "source": [
    "for index, proba in enumerate(f2b_estimated):\n",
    "    if proba < 0:\n",
    "        f2b_estimated[index] = 0\n",
    "    if proba > 1: \n",
    "        f2b_estimated[index] = 1\n",
    "log_likelihood_global(f2b_estimated, data, likelihood_blocks)"
   ]
  },
  {
   "cell_type": "code",
   "execution_count": 8,
   "metadata": {},
   "outputs": [
    {
     "ename": "NameError",
     "evalue": "name 'f2b_estimated' is not defined",
     "output_type": "error",
     "traceback": [
      "\u001b[0;31m---------------------------------------------------------------------------\u001b[0m",
      "\u001b[0;31mNameError\u001b[0m                                 Traceback (most recent call last)",
      "\u001b[1;32m/home/justine/Nextcloud/Cired/Recherche/Econometrie/fail_to_board_probability/f2b_code/f2b/f2b_estimation/optimization_dichotomy.ipynb Cell 12'\u001b[0m in \u001b[0;36m<cell line: 2>\u001b[0;34m()\u001b[0m\n\u001b[1;32m      <a href='vscode-notebook-cell:/home/justine/Nextcloud/Cired/Recherche/Econometrie/fail_to_board_probability/f2b_code/f2b/f2b_estimation/optimization_dichotomy.ipynb#ch0000011?line=0'>1</a>\u001b[0m \u001b[39mfrom\u001b[39;00m \u001b[39mmatplotlib\u001b[39;00m \u001b[39mimport\u001b[39;00m pyplot\n\u001b[0;32m----> <a href='vscode-notebook-cell:/home/justine/Nextcloud/Cired/Recherche/Econometrie/fail_to_board_probability/f2b_code/f2b/f2b_estimation/optimization_dichotomy.ipynb#ch0000011?line=1'>2</a>\u001b[0m pyplot\u001b[39m.\u001b[39mplot(f2b_estimated)\n\u001b[1;32m      <a href='vscode-notebook-cell:/home/justine/Nextcloud/Cired/Recherche/Econometrie/fail_to_board_probability/f2b_code/f2b/f2b_estimation/optimization_dichotomy.ipynb#ch0000011?line=2'>3</a>\u001b[0m pyplot\u001b[39m.\u001b[39mshow()\n",
      "\u001b[0;31mNameError\u001b[0m: name 'f2b_estimated' is not defined"
     ]
    }
   ],
   "source": [
    "from matplotlib import pyplot\n",
    "pyplot.plot(f2b_estimated)\n",
    "pyplot.show()"
   ]
  },
  {
   "cell_type": "code",
   "execution_count": 34,
   "metadata": {},
   "outputs": [
    {
     "name": "stdout",
     "output_type": "stream",
     "text": [
      "0.9900000000000007\n"
     ]
    }
   ],
   "source": [
    "component = 52\n",
    "f2b_test = [0 for _ in range(len(data.runs))]\n",
    "\n",
    "nbr_tests = 100\n",
    "step_size = 1/nbr_tests\n",
    "partial_derivative_value = [0 for _ in range(nbr_tests)]\n",
    "for i in range(nbr_tests):\n",
    "    for trip_id in data.trips.index:\n",
    "        partial_derivative_value[i] += indiv_log_likelihood_partial_diff(trip_id, data, likelihood_blocks, f2b_test, component)\n",
    "    f2b_test[component] += step_size\n",
    "print(f2b_test[52]- step_size)\n",
    "\n"
   ]
  },
  {
   "cell_type": "code",
   "execution_count": 35,
   "metadata": {},
   "outputs": [
    {
     "data": {
      "image/png": "[encoded data removed]",
      "text/plain": [
       "<Figure size 432x288 with 1 Axes>"
      ]
     },
     "metadata": {
      "needs_background": "light"
     },
     "output_type": "display_data"
    }
   ],
   "source": [
    "from matplotlib import pyplot\n",
    "pyplot.plot(partial_derivative_value[20:80])\n",
    "pyplot.show()"
   ]
  },
  {
   "cell_type": "code",
   "execution_count": 20,
   "metadata": {},
   "outputs": [
    {
     "name": "stdout",
     "output_type": "stream",
     "text": [
      "0\n",
      "1\n",
      "2\n",
      "3\n",
      "4\n",
      "5\n",
      "6\n",
      "7\n",
      "8\n",
      "9\n"
     ]
    }
   ],
   "source": [
    "for i in range(10):\n",
    "    if i ==4:\n",
    "        pass\n",
    "    print(i)"
   ]
  },
  {
   "cell_type": "code",
   "execution_count": null,
   "metadata": {},
   "outputs": [],
   "source": []
  }
 ],
 "metadata": {
  "interpreter": {
   "hash": "3359536f1b3a3a71df2bab71fa121664c1c01b75943bdf02e01824766e7cd68f"
  },
  "kernelspec": {
   "display_name": "Python 3.8.10 ('new_venv': venv)",
   "language": "python",
   "name": "python3"
  },
  "language_info": {
   "codemirror_mode": {
    "name": "ipython",
    "version": 3
   },
   "file_extension": ".py",
   "mimetype": "text/x-python",
   "name": "python",
   "nbconvert_exporter": "python",
   "pygments_lexer": "ipython3",
   "version": "3.8.10"
  },
  "orig_nbformat": 4
 },
 "nbformat": 4,
 "nbformat_minor": 2
}
