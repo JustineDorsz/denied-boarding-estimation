{
 "cells": [
  {
   "cell_type": "code",
   "execution_count": 73,
   "metadata": {},
   "outputs": [],
   "source": [
    "import f2b\n",
    "from data import Data\n",
    "from likelihood import compute_likelihood_blocks, transition_probability, log_likelihood_global\n"
   ]
  },
  {
   "cell_type": "code",
   "execution_count": 25,
   "metadata": {},
   "outputs": [],
   "source": [
    "def load_estimated_f2b(station: str, morning_peak: bool) -> list:\n",
    "    if morning_peak:\n",
    "        f2b_file_path = \"/home/justine/Nextcloud/Cired/Recherche/Econometrie/fail_to_board_probability/f2b_code/f2b/output/f2b_results_morning_peak_\" + station + \".csv\"\n",
    "    else:\n",
    "        f2b_file_path = \"/home/justine/Nextcloud/Cired/Recherche/Econometrie/fail_to_board_probability/f2b_code/f2b/output/f2b_results_\" + station + \".csv\"\n",
    "\n",
    "    with open(f2b_file_path, \"r\") as f2b_file:\n",
    "        f2b_file_content = f2b_file.read()\n",
    "        f2b_estimated = f2b_file_content.split(\",\")\n",
    "        f2b_estimated = [float(f2b) for f2b in f2b_estimated]\n",
    "        return f2b_estimated"
   ]
  },
  {
   "cell_type": "code",
   "execution_count": 3,
   "metadata": {},
   "outputs": [],
   "source": [
    "def transition_probability_partial_diff(\n",
    "    trip_id: int,\n",
    "    data: Data,\n",
    "    boarded_run: str,\n",
    "    headway_run: str,\n",
    "    f2b_probabilities: list,\n",
    "    partial_diff_component: int,\n",
    ") -> float:\n",
    "    \"\"\"Function returning the probability of boarding boarded_run\n",
    "    when arriving at headway_run according to the f2b_probability.\"\"\"\n",
    "\n",
    "    headway_run_index = data.runs.index(headway_run)\n",
    "    boarded_run_index = data.runs.index(boarded_run)\n",
    "    \n",
    "    if partial_diff_component >= headway_run_index and partial_diff_component < boarded_run_index:\n",
    "        failure_probability = 1\n",
    "\n",
    "        # relative indexing in the list of feasible runs in\n",
    "        # chronological order for each trip.\n",
    "        trip_headway_run_relative_index = data.feasible_runs_by_trip[trip_id].index(\n",
    "            headway_run\n",
    "        )\n",
    "        trip_boarded_run_relative_index = data.feasible_runs_by_trip[trip_id].index(\n",
    "            boarded_run\n",
    "        )\n",
    "\n",
    "        for missed_run in data.feasible_runs_by_trip[trip_id][\n",
    "            trip_headway_run_relative_index:trip_boarded_run_relative_index\n",
    "        ]:\n",
    "            missed_run_index = data.runs.index(missed_run)\n",
    "            if missed_run_index != partial_diff_component:\n",
    "                failure_probability = (\n",
    "                    f2b_probabilities[missed_run_index] * failure_probability\n",
    "                )\n",
    "        return (1 - f2b_probabilities[boarded_run_index]) * failure_probability\n",
    "\n",
    "    if partial_diff_component == boarded_run_index:\n",
    "        if headway_run == boarded_run:\n",
    "            return -1\n",
    "\n",
    "        else:\n",
    "            failure_probability = 1\n",
    "\n",
    "            # relative indexing in the list of feasible runs in\n",
    "            # chronological order for each trip.\n",
    "            trip_headway_run_relative_index = data.feasible_runs_by_trip[trip_id].index(\n",
    "                headway_run\n",
    "            )\n",
    "            trip_boarded_run_relative_index = data.feasible_runs_by_trip[trip_id].index(\n",
    "                boarded_run\n",
    "            )\n",
    "\n",
    "            for missed_run in data.feasible_runs_by_trip[trip_id][\n",
    "                trip_headway_run_relative_index:trip_boarded_run_relative_index\n",
    "            ]:\n",
    "                missed_run_index = data.runs.index(missed_run)\n",
    "                failure_probability = (\n",
    "                    f2b_probabilities[missed_run_index] * failure_probability\n",
    "                )\n",
    "            return (-1) * failure_probability\n",
    "\n",
    "    if partial_diff_component < headway_run_index or partial_diff_component > boarded_run_index:\n",
    "        return 0"
   ]
  },
  {
   "cell_type": "code",
   "execution_count": 39,
   "metadata": {},
   "outputs": [],
   "source": [
    "def indiv_log_likelihood_partial_diff(    \n",
    "    trip_id: int,\n",
    "    data: Data,\n",
    "    precomputed_blocks: dict,\n",
    "    f2b_probabilities: list,\n",
    "    diff_component: int,\n",
    "    ):\n",
    "    conditional_exit_duration_proba = 0.\n",
    "    conditional_exit_duration_proba_diff = 0.\n",
    "\n",
    "    for headway_boarded_pair in data.headway_boarded_run_pair_by_trip[trip_id]:\n",
    "        # Pairs are ordered (headway_run, boarded_run)\n",
    "        headway_run = headway_boarded_pair[0]\n",
    "        boarded_run = headway_boarded_pair[1]\n",
    "        block = precomputed_blocks[trip_id, headway_run, boarded_run]\n",
    "\n",
    "        \n",
    "        conditional_exit_duration_proba += (\n",
    "            transition_probability(\n",
    "                trip_id, data, boarded_run, headway_run, f2b_probabilities\n",
    "            )\n",
    "            * block\n",
    "        )\n",
    "        conditional_exit_duration_proba_diff += (\n",
    "            transition_probability_partial_diff(\n",
    "                trip_id, data, boarded_run, headway_run, f2b_probabilities, diff_component\n",
    "            )\n",
    "            * block\n",
    "        )\n",
    "\n",
    "    # Derivative of log(P(x) is P'(x)/P(x).\n",
    "    return conditional_exit_duration_proba_diff/conditional_exit_duration_proba"
   ]
  },
  {
   "cell_type": "code",
   "execution_count": 5,
   "metadata": {},
   "outputs": [
    {
     "name": "stdout",
     "output_type": "stream",
     "text": [
      "Get feasible runs...\n"
     ]
    },
    {
     "name": "stderr",
     "output_type": "stream",
     "text": [
      "100%|██████████| 8458/8458 [00:00<00:00, 9436.21it/s] \n"
     ]
    },
    {
     "name": "stdout",
     "output_type": "stream",
     "text": [
      "number of too long trips removed: 110\n",
      "Get runs info...\n"
     ]
    },
    {
     "name": "stderr",
     "output_type": "stream",
     "text": [
      "100%|██████████| 305/305 [00:01<00:00, 266.49it/s]\n"
     ]
    },
    {
     "name": "stdout",
     "output_type": "stream",
     "text": [
      "Order feasible run lists...\n"
     ]
    },
    {
     "name": "stderr",
     "output_type": "stream",
     "text": [
      "100%|██████████| 8336/8336 [00:00<00:00, 1004704.54it/s]\n"
     ]
    },
    {
     "name": "stdout",
     "output_type": "stream",
     "text": [
      "Construct feasible run pairs...\n"
     ]
    },
    {
     "name": "stderr",
     "output_type": "stream",
     "text": [
      "100%|██████████| 8336/8336 [00:00<00:00, 681912.86it/s]\n"
     ]
    },
    {
     "name": "stdout",
     "output_type": "stream",
     "text": [
      "(Offline) Compute likelihood blocks...\n"
     ]
    },
    {
     "name": "stderr",
     "output_type": "stream",
     "text": [
      "100%|██████████| 8336/8336 [00:07<00:00, 1112.85it/s]\n"
     ]
    }
   ],
   "source": [
    "from yaml import safe_load\n",
    "\n",
    "origin_station = \"VIN\"\n",
    "destination_stations = [\"NAT\", \"LYO\", \"CHL\", \"AUB\", \"ETO\", \"DEF\"]\n",
    "date = \"04/02/2020\"\n",
    "with open(f\"/home/justine/Nextcloud/Cired/Recherche/Econometrie/fail_to_board_probability/f2b_code/f2b/parameters_{origin_station}.yml\") as file:\n",
    "        parameters = safe_load(file)\n",
    "data = Data(date, origin_station, destination_stations)\n",
    "likelihood_blocks = compute_likelihood_blocks(data, parameters)\n"
   ]
  },
  {
   "cell_type": "code",
   "execution_count": 101,
   "metadata": {},
   "outputs": [],
   "source": [
    "f2b_estimation = [0 for _ in range(len(data.runs))]\n",
    "log_likelihood = [log_likelihood_global(f2b_estimation, data, likelihood_blocks)]\n",
    "\n",
    "log_likelihood_gradient = [0 for _ in range(len(data.runs))]\n",
    "for diff_component in range(len(data.runs)):\n",
    "    for trip_id in data.trips.index:\n",
    "            log_likelihood_gradient[diff_component] += indiv_log_likelihood_partial_diff(trip_id, data, likelihood_blocks, f2b_estimation, diff_component)"
   ]
  },
  {
   "cell_type": "code",
   "execution_count": 102,
   "metadata": {},
   "outputs": [
    {
     "data": {
      "image/png": "[encoded data removed]",
      "text/plain": [
       "<Figure size 432x288 with 1 Axes>"
      ]
     },
     "metadata": {
      "needs_background": "light"
     },
     "output_type": "display_data"
    }
   ],
   "source": [
    "from matplotlib import pyplot\n",
    "pyplot.plot(log_likelihood_gradient)\n",
    "pyplot.show()"
   ]
  },
  {
   "cell_type": "code",
   "execution_count": 103,
   "metadata": {},
   "outputs": [],
   "source": [
    "indices_to_correct = []\n",
    "indices_neighboors_to_correct = []\n",
    "for proba_index in range(len(data.runs)):\n",
    "    if log_likelihood_gradient[proba_index] > 100:\n",
    "        indices_to_correct.append(proba_index)\n",
    "        if proba_index-1 >= 0:\n",
    "            indices_neighboors_to_correct.append(proba_index-1)\n",
    "        if proba_index-2 >= 0:\n",
    "            indices_neighboors_to_correct.append(proba_index-2)\n",
    "        if proba_index+1 <len(data.runs):\n",
    "            indices_neighboors_to_correct.append(proba_index+1)\n",
    "        if proba_index+2 <len(data.runs):\n",
    "            indices_neighboors_to_correct.append(proba_index+2)"
   ]
  },
  {
   "cell_type": "code",
   "execution_count": 104,
   "metadata": {},
   "outputs": [],
   "source": [
    "for i in range(10):\n",
    "    for proba_to_correct_index in indices_to_correct:\n",
    "        f2b_estimation[proba_to_correct_index] +=0.05\n",
    "    for proba_to_correct_index in indices_neighboors_to_correct:\n",
    "        f2b_estimation[proba_to_correct_index] +=0.05   \n",
    "    log_likelihood.append(log_likelihood_global(f2b_estimation, data, likelihood_blocks))\n",
    "    log_likelihood_gradient = [0 for _ in range(len(data.runs))]\n",
    "\n",
    "    for diff_component in range(len(data.runs)):\n",
    "        for trip_id in data.trips.index:\n",
    "            log_likelihood_gradient[diff_component] += indiv_log_likelihood_partial_diff(trip_id, data, likelihood_blocks, f2b_estimation, diff_component)\n",
    "    \n",
    "    indices_to_correct = []\n",
    "    indices_neighboors_to_correct = []\n",
    "    for proba_index in range(len(data.runs)):\n",
    "        if log_likelihood_gradient[proba_index] > 100:\n",
    "            indices_to_correct.append(proba_index)\n",
    "            if proba_index-1 >= 0:\n",
    "                indices_neighboors_to_correct.append(proba_index-1)\n",
    "            if proba_index-2 >= 0:\n",
    "                indices_neighboors_to_correct.append(proba_index-2)\n",
    "            if proba_index+1 <len(data.runs):\n",
    "                indices_neighboors_to_correct.append(proba_index+1)\n",
    "            if proba_index+2 <len(data.runs):\n",
    "                indices_neighboors_to_correct.append(proba_index+2)"
   ]
  },
  {
   "cell_type": "code",
   "execution_count": 110,
   "metadata": {},
   "outputs": [
    {
     "data": {
      "text/plain": [
       "[-46662.43673206189,\n",
       " -46081.55846050578,\n",
       " -46077.56985275371,\n",
       " -46082.17211154094,\n",
       " -46098.11545756874,\n",
       " -46124.339382122635,\n",
       " -46124.339382122635,\n",
       " -46124.339382122635,\n",
       " -46124.339382122635,\n",
       " -46124.339382122635,\n",
       " -46124.339382122635]"
      ]
     },
     "execution_count": 110,
     "metadata": {},
     "output_type": "execute_result"
    }
   ],
   "source": [
    "log_likelihood"
   ]
  },
  {
   "cell_type": "code",
   "execution_count": 122,
   "metadata": {},
   "outputs": [],
   "source": [
    "f2b_estimation = [0 for _ in range(len(data.runs))]\n",
    "\n",
    "for diff_component in range(len(data.runs)):\n",
    "    likelihoods = []\n",
    "    proba_to_test = [0]\n",
    "    for i in range(1,100):\n",
    "        proba_to_test.append(1/i)\n",
    "\n",
    "    for proba in proba_to_test:\n",
    "        f2b_estimation[diff_component] = proba\n",
    "        likelihoods.append(log_likelihood_global(f2b_estimation, data, likelihood_blocks))\n",
    "    new_proba_index = likelihoods.index(max(likelihoods))\n",
    "    new_proba = proba_to_test[new_proba_index]\n",
    "    f2b_estimation[diff_component] = new_proba\n"
   ]
  },
  {
   "cell_type": "code",
   "execution_count": 125,
   "metadata": {},
   "outputs": [
    {
     "data": {
      "text/plain": [
       "-45782.27940296616"
      ]
     },
     "execution_count": 125,
     "metadata": {},
     "output_type": "execute_result"
    }
   ],
   "source": [
    "log_likelihood_global(f2b_estimation, data, likelihood_blocks)"
   ]
  },
  {
   "cell_type": "code",
   "execution_count": 7,
   "metadata": {},
   "outputs": [
    {
     "data": {
      "image/png": "[encoded data removed]",
      "text/plain": [
       "<Figure size 432x288 with 1 Axes>"
      ]
     },
     "metadata": {
      "needs_background": "light"
     },
     "output_type": "display_data"
    }
   ],
   "source": [
    "from matplotlib import pyplot\n",
    "from numpy import linspace\n",
    "from math import log \n",
    "\n",
    "X = linspace(0,0.99, 100)\n",
    "Y = [log((1-x)*0.2+x*0.6) + log((1-x)*0.3+x*0.1) + log((1-x)) for x in X]\n",
    "pyplot.plot(X,Y)\n",
    "pyplot.show()"
   ]
  },
  {
   "cell_type": "code",
   "execution_count": null,
   "metadata": {},
   "outputs": [],
   "source": []
  }
 ],
 "metadata": {
  "interpreter": {
   "hash": "3359536f1b3a3a71df2bab71fa121664c1c01b75943bdf02e01824766e7cd68f"
  },
  "kernelspec": {
   "display_name": "Python 3.8.10 ('new_venv': venv)",
   "language": "python",
   "name": "python3"
  },
  "language_info": {
   "codemirror_mode": {
    "name": "ipython",
    "version": 3
   },
   "file_extension": ".py",
   "mimetype": "text/x-python",
   "name": "python",
   "nbconvert_exporter": "python",
   "pygments_lexer": "ipython3",
   "version": "3.8.10"
  },
  "orig_nbformat": 4
 },
 "nbformat": 4,
 "nbformat_minor": 2
}
