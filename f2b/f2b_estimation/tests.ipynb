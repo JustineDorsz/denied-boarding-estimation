{
 "cells": [
  {
   "cell_type": "code",
   "execution_count": 1,
   "metadata": {},
   "outputs": [],
   "source": [
    "from data import Data"
   ]
  },
  {
   "cell_type": "code",
   "execution_count": 5,
   "metadata": {},
   "outputs": [
    {
     "name": "stdout",
     "output_type": "stream",
     "text": [
      "Get feasible runs...\n"
     ]
    },
    {
     "name": "stderr",
     "output_type": "stream",
     "text": [
      "100%|██████████| 11715/11715 [00:01<00:00, 9500.57it/s]\n"
     ]
    },
    {
     "name": "stdout",
     "output_type": "stream",
     "text": [
      "number of too long trips removed: 269\n"
     ]
    },
    {
     "name": "stderr",
     "output_type": "stream",
     "text": [
      "100%|██████████| 11436/11436 [00:00<00:00, 2542999.71it/s]\n"
     ]
    },
    {
     "name": "stdout",
     "output_type": "stream",
     "text": [
      "Get runs info...\n"
     ]
    },
    {
     "name": "stderr",
     "output_type": "stream",
     "text": [
      "100%|██████████| 306/306 [00:00<00:00, 308.29it/s]\n"
     ]
    },
    {
     "name": "stdout",
     "output_type": "stream",
     "text": [
      "Order feasible run lists...\n"
     ]
    },
    {
     "name": "stderr",
     "output_type": "stream",
     "text": [
      "100%|██████████| 11436/11436 [00:00<00:00, 1036924.65it/s]\n"
     ]
    },
    {
     "name": "stdout",
     "output_type": "stream",
     "text": [
      "Construct feasible run pairs...\n"
     ]
    },
    {
     "name": "stderr",
     "output_type": "stream",
     "text": [
      "100%|██████████| 11436/11436 [00:00<00:00, 525022.55it/s]\n"
     ]
    }
   ],
   "source": [
    "from yaml import safe_load\n",
    "\n",
    "origin_station = \"NAT\"\n",
    "destination_stations = [\"LYO\", \"CHL\", \"AUB\", \"ETO\", \"DEF\"]\n",
    "date = \"04/02/2020\"\n",
    "write_output = False\n",
    "\n",
    "with open(f\"/home/justine/Nextcloud/Cired/Recherche/Econometrie/fail_to_board_probability/f2b_code/f2b/parameters_{origin_station}.yml\") as file:\n",
    "    parameters = safe_load(file)\n",
    "\n",
    "data = Data(date, origin_station, destination_stations)\n"
   ]
  },
  {
   "cell_type": "code",
   "execution_count": 6,
   "metadata": {},
   "outputs": [
    {
     "name": "stdout",
     "output_type": "stream",
     "text": [
      "Chain break between runs at position 302 and 303.\n",
      "Chain break between runs at position 304 and 305.\n"
     ]
    }
   ],
   "source": [
    "for run_position in range(len(data.runs)-1):\n",
    "    run_code = data.runs[run_position]\n",
    "    next_run_code = data.runs[run_position+1]\n",
    "    if not set(data.concerned_trips_by_run[run_code]).intersection(data.concerned_trips_by_run[next_run_code]):\n",
    "        print(f\"Chain break between runs at positions {run_position} and {run_position+1}.\")\n"
   ]
  },
  {
   "cell_type": "code",
   "execution_count": 8,
   "metadata": {},
   "outputs": [
    {
     "name": "stdout",
     "output_type": "stream",
     "text": [
      "[834557, 677181, 770516, 784585, 466491, 590422, 608230, 611542, 615840, 648312, 727664]\n",
      "[581681, 622734, 737933, 743182, 831588]\n"
     ]
    }
   ],
   "source": [
    "print(data.concerned_trips_by_run[data.runs[302]])\n",
    "print(data.concerned_trips_by_run[data.runs[303]])"
   ]
  },
  {
   "cell_type": "code",
   "execution_count": null,
   "metadata": {},
   "outputs": [],
   "source": []
  }
 ],
 "metadata": {
  "interpreter": {
   "hash": "3359536f1b3a3a71df2bab71fa121664c1c01b75943bdf02e01824766e7cd68f"
  },
  "kernelspec": {
   "display_name": "Python 3.8.10 ('new_venv': venv)",
   "language": "python",
   "name": "python3"
  },
  "language_info": {
   "codemirror_mode": {
    "name": "ipython",
    "version": 3
   },
   "file_extension": ".py",
   "mimetype": "text/x-python",
   "name": "python",
   "nbconvert_exporter": "python",
   "pygments_lexer": "ipython3",
   "version": "3.8.10"
  },
  "orig_nbformat": 4
 },
 "nbformat": 4,
 "nbformat_minor": 2
}
