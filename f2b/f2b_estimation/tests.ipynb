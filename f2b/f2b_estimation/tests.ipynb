{
 "cells": [
  {
   "cell_type": "code",
   "execution_count": 1,
   "metadata": {},
   "outputs": [],
   "source": [
    "from data import Data"
   ]
  },
  {
   "cell_type": "code",
   "execution_count": 2,
   "metadata": {},
   "outputs": [
    {
     "name": "stdout",
     "output_type": "stream",
     "text": [
      "Get feasible runs...\n"
     ]
    },
    {
     "name": "stderr",
     "output_type": "stream",
     "text": [
      "100%|██████████| 11715/11715 [00:01<00:00, 7716.17it/s]\n"
     ]
    },
    {
     "name": "stdout",
     "output_type": "stream",
     "text": [
      "number of too long trips removed: 269\n"
     ]
    },
    {
     "name": "stderr",
     "output_type": "stream",
     "text": [
      "100%|██████████| 11436/11436 [00:00<00:00, 2400463.44it/s]\n"
     ]
    },
    {
     "name": "stdout",
     "output_type": "stream",
     "text": [
      "Get runs info...\n"
     ]
    },
    {
     "name": "stderr",
     "output_type": "stream",
     "text": [
      "100%|██████████| 306/306 [00:00<00:00, 312.11it/s]\n"
     ]
    },
    {
     "name": "stdout",
     "output_type": "stream",
     "text": [
      "Order feasible run lists...\n"
     ]
    },
    {
     "name": "stderr",
     "output_type": "stream",
     "text": [
      "100%|██████████| 11436/11436 [00:00<00:00, 1050597.09it/s]\n"
     ]
    },
    {
     "name": "stdout",
     "output_type": "stream",
     "text": [
      "Construct feasible run pairs...\n"
     ]
    },
    {
     "name": "stderr",
     "output_type": "stream",
     "text": [
      "100%|██████████| 11436/11436 [00:00<00:00, 232829.13it/s]\n"
     ]
    }
   ],
   "source": [
    "from yaml import safe_load\n",
    "\n",
    "origin_station = \"NAT\"\n",
    "destination_stations = [\"LYO\", \"CHL\", \"AUB\", \"ETO\", \"DEF\"]\n",
    "date = \"04/02/2020\"\n",
    "write_output = False\n",
    "\n",
    "with open(f\"/home/justine/Nextcloud/Cired/Recherche/Econometrie/fail_to_board_probability/f2b_code/f2b/parameters/parameters_{origin_station}.yml\") as file:\n",
    "    parameters = safe_load(file)\n",
    "\n",
    "data = Data(date, origin_station, destination_stations)\n"
   ]
  },
  {
   "cell_type": "code",
   "execution_count": 3,
   "metadata": {},
   "outputs": [
    {
     "name": "stdout",
     "output_type": "stream",
     "text": [
      "Chain break between runs at positions 302 and 303.\n",
      "Chain break between runs at positions 304 and 305.\n"
     ]
    }
   ],
   "source": [
    "for run_position in range(len(data.runs)-1):\n",
    "    run_code = data.runs[run_position]\n",
    "    next_run_code = data.runs[run_position+1]\n",
    "    if not set(data.concerned_trips_by_run[run_code]).intersection(data.concerned_trips_by_run[next_run_code]):\n",
    "        print(f\"Chain break between runs at positions {run_position} and {run_position+1}.\")\n"
   ]
  },
  {
   "cell_type": "code",
   "execution_count": 4,
   "metadata": {},
   "outputs": [
    {
     "name": "stdout",
     "output_type": "stream",
     "text": [
      "[834557, 677181, 770516, 784585, 466491, 590422, 608230, 611542, 615840, 648312, 727664]\n",
      "[581681, 622734, 737933, 743182, 831588]\n"
     ]
    }
   ],
   "source": [
    "print(data.concerned_trips_by_run[data.runs[302]])\n",
    "print(data.concerned_trips_by_run[data.runs[303]])"
   ]
  },
  {
   "cell_type": "markdown",
   "metadata": {},
   "source": [
    "### Hessian verification at starting point."
   ]
  },
  {
   "cell_type": "code",
   "execution_count": 9,
   "metadata": {},
   "outputs": [],
   "source": [
    "from numpy import array\n",
    "f2b = array([0. for _ in range(len(data.runs))])\n"
   ]
  },
  {
   "cell_type": "code",
   "execution_count": 12,
   "metadata": {},
   "outputs": [],
   "source": [
    "from likelihood_recursive_blocks import (\n",
    "    compute_access_individual_likelihoods,\n",
    "    compute_egress_individual_likelihoods,\n",
    "    differential_log_likelihood_global_by_component,\n",
    "    indiv_likelihood_and_auxiliary_egress_update_by_run,\n",
    "    log_likelihood_global_with_egress_auxiliary_variables_updates,\n",
    "    gradient_log_likelihood_global,\n",
    "    hessian_log_likelihood_global,\n",
    ")"
   ]
  },
  {
   "cell_type": "code",
   "execution_count": 59,
   "metadata": {},
   "outputs": [
    {
     "name": "stdout",
     "output_type": "stream",
     "text": [
      "(Offline) Compute access individual likelihood...\n"
     ]
    },
    {
     "name": "stderr",
     "output_type": "stream",
     "text": [
      "100%|██████████| 11436/11436 [00:04<00:00, 2335.74it/s]\n"
     ]
    },
    {
     "name": "stdout",
     "output_type": "stream",
     "text": [
      "(Offline) Compute egress individual likelihood...\n"
     ]
    },
    {
     "name": "stderr",
     "output_type": "stream",
     "text": [
      "100%|██████████| 11436/11436 [00:03<00:00, 3355.61it/s]\n"
     ]
    }
   ],
   "source": [
    "access_individual_likelihoods = compute_access_individual_likelihoods(\n",
    "        data, parameters\n",
    "    )\n",
    "egress_individual_likelihoods = compute_egress_individual_likelihoods(\n",
    "    data, parameters\n",
    ")\n",
    "individual_likelihoods = {}\n",
    "individual_log_likelihood_gradients = {}\n",
    "access_auxiliary_variables = {}\n",
    "egress_auxiliary_variables = {}\n",
    "\n",
    "log_likelihood_global_with_egress_auxiliary_variables_updates(\n",
    "    f2b,\n",
    "    access_individual_likelihoods,\n",
    "    egress_individual_likelihoods,\n",
    "    egress_auxiliary_variables,\n",
    "    individual_likelihoods,\n",
    "    data,\n",
    ")\n",
    "individual_log_likelihood_gradients = {}\n",
    "\n",
    "gradient = gradient_log_likelihood_global(\n",
    "    f2b,\n",
    "    access_individual_likelihoods,\n",
    "    egress_individual_likelihoods,\n",
    "    access_auxiliary_variables,\n",
    "    egress_auxiliary_variables,\n",
    "    individual_likelihoods,\n",
    "    individual_log_likelihood_gradients,\n",
    "    data,\n",
    ")\n"
   ]
  },
  {
   "cell_type": "code",
   "execution_count": 60,
   "metadata": {},
   "outputs": [
    {
     "name": "stdout",
     "output_type": "stream",
     "text": [
      "839.8883081240866\n",
      "839.8883081240866\n"
     ]
    }
   ],
   "source": [
    "run_position = 50\n",
    "run_code = data.runs[run_position]\n",
    "grad = 0\n",
    "for trip_id in data.concerned_trips_by_run[run_code]:\n",
    "    grad += individual_log_likelihood_gradients[trip_id, run_code]\n",
    "print(grad)\n",
    "print(gradient[50])"
   ]
  },
  {
   "cell_type": "code",
   "execution_count": 61,
   "metadata": {},
   "outputs": [
    {
     "data": {
      "text/plain": [
       "839.8883081240866"
      ]
     },
     "execution_count": 61,
     "metadata": {},
     "output_type": "execute_result"
    }
   ],
   "source": [
    "access_auxiliary_comparison = {}\n",
    "egress_aux_comparison = {}\n",
    "\n",
    "differential_log_likelihood_global_by_component(\n",
    "    run_position,\n",
    "    f2b,\n",
    "    access_individual_likelihoods,\n",
    "    egress_individual_likelihoods,\n",
    "    access_auxiliary_comparison,\n",
    "    egress_aux_comparison,\n",
    "    individual_likelihoods,\n",
    "    data,\n",
    ")"
   ]
  },
  {
   "cell_type": "code",
   "execution_count": 71,
   "metadata": {},
   "outputs": [],
   "source": [
    "trip_of_interest = 0\n",
    "hessian = hessian_log_likelihood_global(        \n",
    "    f2b,\n",
    "    egress_individual_likelihoods,\n",
    "    access_auxiliary_variables,\n",
    "    egress_auxiliary_variables,\n",
    "    individual_likelihoods,\n",
    "    individual_log_likelihood_gradients,\n",
    "    trip_of_interest,\n",
    "    data,)"
   ]
  },
  {
   "cell_type": "code",
   "execution_count": 72,
   "metadata": {},
   "outputs": [
    {
     "name": "stdout",
     "output_type": "stream",
     "text": [
      "-0.9951558728137816\n"
     ]
    }
   ],
   "source": [
    "print(hessian[50,50])"
   ]
  },
  {
   "cell_type": "code",
   "execution_count": 73,
   "metadata": {},
   "outputs": [
    {
     "name": "stdout",
     "output_type": "stream",
     "text": [
      "77545.26217054667\n"
     ]
    }
   ],
   "source": [
    "hessian_diag = 0\n",
    "for trip_id in data.concerned_trips_by_run[run_code]:\n",
    "    hessian_diag += individual_log_likelihood_gradients[trip_id, run_code]**2\n",
    "print(hessian_diag)"
   ]
  },
  {
   "cell_type": "code",
   "execution_count": 69,
   "metadata": {},
   "outputs": [],
   "source": [
    "hessian_global_by_hand=array([[0. for _ in range(len(data.runs))] for _ in range(len(data.runs))])\n",
    "for trip_id in data.trips.index:\n",
    "    for position, first_run in enumerate(data.feasible_runs_by_trip[trip_id]):\n",
    "        first_run_index = data.runs.index(first_run)\n",
    "        hessian_global_by_hand[first_run_index, first_run_index] += (\n",
    "            -individual_log_likelihood_gradients[trip_id, first_run] ** 2\n",
    "        )"
   ]
  },
  {
   "cell_type": "code",
   "execution_count": 70,
   "metadata": {},
   "outputs": [
    {
     "data": {
      "text/plain": [
       "-77545.26217054667"
      ]
     },
     "execution_count": 70,
     "metadata": {},
     "output_type": "execute_result"
    }
   ],
   "source": [
    "hessian_global_by_hand[50,50]"
   ]
  },
  {
   "cell_type": "code",
   "execution_count": null,
   "metadata": {},
   "outputs": [],
   "source": []
  }
 ],
 "metadata": {
  "interpreter": {
   "hash": "3359536f1b3a3a71df2bab71fa121664c1c01b75943bdf02e01824766e7cd68f"
  },
  "kernelspec": {
   "display_name": "Python 3.8.10 ('new_venv': venv)",
   "language": "python",
   "name": "python3"
  },
  "language_info": {
   "codemirror_mode": {
    "name": "ipython",
    "version": 3
   },
   "file_extension": ".py",
   "mimetype": "text/x-python",
   "name": "python",
   "nbconvert_exporter": "python",
   "pygments_lexer": "ipython3",
   "version": "3.8.10"
  },
  "orig_nbformat": 4
 },
 "nbformat": 4,
 "nbformat_minor": 2
}
