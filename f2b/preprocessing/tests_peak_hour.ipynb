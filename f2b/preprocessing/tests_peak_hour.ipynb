{
 "cells": [
  {
   "cell_type": "markdown",
   "metadata": {},
   "source": [
    "### Egress time distributions.\n",
    "### Tests for peak or off peak hour"
   ]
  },
  {
   "cell_type": "code",
   "execution_count": 1,
   "metadata": {},
   "outputs": [],
   "source": [
    "%load_ext autoreload"
   ]
  },
  {
   "cell_type": "code",
   "execution_count": 2,
   "metadata": {},
   "outputs": [],
   "source": [
    "%autoreload 2"
   ]
  },
  {
   "cell_type": "code",
   "execution_count": 3,
   "metadata": {},
   "outputs": [],
   "source": [
    "from time import time\n",
    "from matplotlib.figure import Figure\n",
    "from tqdm import tqdm\n",
    "from fitter import Fitter, get_common_distributions\n",
    "from math import sqrt\n",
    "from matplotlib import axes, pyplot\n",
    "from sigfig import round\n",
    "import scipy.stats\n",
    "from statistics import mean, stdev\n",
    "from yaml import dump"
   ]
  },
  {
   "cell_type": "code",
   "execution_count": 4,
   "metadata": {},
   "outputs": [],
   "source": [
    "DB_PATH = \"/home/justine/Cired/Data/AFC_AVL_2020_02/RERA_202002_test.db\""
   ]
  },
  {
   "cell_type": "code",
   "execution_count": 5,
   "metadata": {},
   "outputs": [],
   "source": [
    "from f2b.preprocessing.station_egress_time_fitter import Data"
   ]
  },
  {
   "cell_type": "code",
   "execution_count": 6,
   "metadata": {},
   "outputs": [],
   "source": [
    "def plot_distributions_and_estimations(\n",
    "    axs: axes.Axes,\n",
    "    plot_position: list,\n",
    "    egress_times_by_station: dict,\n",
    "    fitted_laws: dict,\n",
    "    station_origin: str,\n",
    "    best_law_info: dict,\n",
    ") -> None:\n",
    "    \"Plot the observed distribution and the estimated law of egress times in each station.\"\n",
    "\n",
    "    colors_4am = [\"#2a225d\", \"#c83576\", \"#ffbe7d\", \"#e9f98f\", \"#eaf7ff\"]\n",
    "\n",
    "    plot_row = plot_position[0]\n",
    "    plot_column = plot_position[1]\n",
    "    axs[plot_row, plot_column].hist(\n",
    "        egress_times_by_station[station_origin], bins=300, color=colors_4am[0]\n",
    "    )\n",
    "    axs[plot_row, plot_column].axis(ymin=0, ymax=30)\n",
    "    axs[plot_row, plot_column].set_title(\"from \"+ station_origin + \" to \" + \"VIN\")\n",
    "\n",
    "    ax2 = axs[plot_row, plot_column].twinx()\n",
    "    egress_times_by_station[station_origin].sort()\n",
    "\n",
    "    for law in best_law_info.keys():\n",
    "        fitted_distrib = law\n",
    "        fitted_distrib_function = eval(\"scipy.stats.\" + law)\n",
    "\n",
    "    ax2label = fitted_distrib + \"\\n\"\n",
    "    mean, var = fitted_distrib_function.stats(**best_law_info[fitted_distrib], moments = 'mv')\n",
    "    ax2label += \"mean: \" + str(mean)[0:4] + \"\\n std: \" + str(sqrt(var))[0:4]\n",
    "    ax2.plot(\n",
    "        egress_times_by_station[station_origin],\n",
    "        fitted_distrib_function.pdf(\n",
    "            egress_times_by_station[station_origin],\n",
    "            **best_law_info[fitted_distrib],\n",
    "        ),\n",
    "        color=colors_4am[1],\n",
    "        label=ax2label,\n",
    "    )\n",
    "    ax2.axis(ymin=0, ymax=0.02)\n",
    "    pyplot.legend(loc=\"upper right\")\n",
    "    pyplot.xlim([0, 300])"
   ]
  },
  {
   "cell_type": "code",
   "execution_count": 15,
   "metadata": {},
   "outputs": [],
   "source": [
    "dates = [\"05/02/2020\", \"06/02/2020\", \"07/02/2020\"]\n",
    "stations = [\"NAT\", \"DEF\"]"
   ]
  },
  {
   "cell_type": "markdown",
   "metadata": {},
   "source": [
    "#### Trips with only one feasible run !!"
   ]
  },
  {
   "cell_type": "code",
   "execution_count": 14,
   "metadata": {},
   "outputs": [
    {
     "name": "stdout",
     "output_type": "stream",
     "text": [
      "3784\n",
      "Morning peak: 1167 egress_times, average = 128.41902313624678, standard deviation = 67.62047312512568.\n",
      "\n",
      "Afternoon peak: 450 egress_times, average = 83.59555555555555, standard deviation = 23.613366374088876.\n",
      "\n",
      "Off peak: 3334 egress_times, average = 105.89112177564488, standard deviation = 53.077691804543434.\n",
      "\n"
     ]
    }
   ],
   "source": [
    "result_output_writing = {}\n",
    "\n",
    "station_origin = stations[0]\n",
    "station_estimation = stations[1]\n",
    "\n",
    "data = Data(station_estimation, dates, [station_origin], False)\n",
    "\n",
    "egress_time_morning_peak = []\n",
    "egress_time_afternoon_peak = []\n",
    "egress_time_off_peak = []\n",
    "print(len(data.trips))\n",
    "for pos, trip_id in enumerate(data.trips.index):\n",
    "    trip_egress_time = data.trips.at[trip_id, \"egress_time\"]\n",
    "    if trip_egress_time > \"07:45:00\" and trip_egress_time < \"09:45:00\":\n",
    "        egress_time_morning_peak.append(data.egress_times[pos])\n",
    "    if trip_egress_time > \"17:00:00\" and trip_egress_time < \"20:00:00\":\n",
    "        egress_time_afternoon_peak.append(data.egress_times[pos])\n",
    "    else:\n",
    "        egress_time_off_peak.append(data.egress_times[pos])\n",
    "\n",
    "print(\n",
    "    f\"Morning peak: {len(egress_time_morning_peak)} egress_times, average = {mean(egress_time_morning_peak)}, standard deviation = {stdev(egress_time_morning_peak)}.\\n\"\n",
    ")\n",
    "print(\n",
    "    f\"Afternoon peak: {len(egress_time_afternoon_peak)} egress_times, average = {mean(egress_time_afternoon_peak)}, standard deviation = {stdev(egress_time_afternoon_peak)}.\\n\"\n",
    ")\n",
    "print(\n",
    "    f\"Off peak: {len(egress_time_off_peak)} egress_times, average = {mean(egress_time_off_peak)}, standard deviation = {stdev(egress_time_off_peak)}.\\n\"\n",
    ")\n"
   ]
  },
  {
   "cell_type": "code",
   "execution_count": 11,
   "metadata": {},
   "outputs": [
    {
     "data": {
      "image/png": "[encoded data removed]",
      "text/plain": [
       "<Figure size 432x288 with 1 Axes>"
      ]
     },
     "metadata": {
      "needs_background": "light"
     },
     "output_type": "display_data"
    }
   ],
   "source": [
    "from pandas import Timestamp\n",
    "\n",
    "pyplot.rcParams['figure.figsize'] = [15, 7]\n",
    "\n",
    "tap_in_times = [\n",
    "    Timestamp(str(dates[0] + \" \" + egress_time))\n",
    "    for egress_time in data.trips[\"egress_time\"]\n",
    "]\n",
    "pyplot.hist(tap_in_times, bins = 50)\n",
    "pyplot.show()"
   ]
  },
  {
   "cell_type": "code",
   "execution_count": null,
   "metadata": {},
   "outputs": [],
   "source": []
  }
 ],
 "metadata": {
  "interpreter": {
   "hash": "3359536f1b3a3a71df2bab71fa121664c1c01b75943bdf02e01824766e7cd68f"
  },
  "kernelspec": {
   "display_name": "Python 3.8.10 ('new_venv': venv)",
   "language": "python",
   "name": "python3"
  },
  "language_info": {
   "codemirror_mode": {
    "name": "ipython",
    "version": 3
   },
   "file_extension": ".py",
   "mimetype": "text/x-python",
   "name": "python",
   "nbconvert_exporter": "python",
   "pygments_lexer": "ipython3",
   "version": "3.8.10"
  },
  "orig_nbformat": 4
 },
 "nbformat": 4,
 "nbformat_minor": 2
}
