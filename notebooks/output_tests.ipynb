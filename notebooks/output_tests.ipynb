{
 "cells": [
  {
   "cell_type": "code",
   "execution_count": 5,
   "metadata": {},
   "outputs": [],
   "source": [
    "import os\n",
    "os.chdir('/home/justine/Nextcloud/Cired/Recherche/Econometrie/fail_to_board_probability/f2b_code')"
   ]
  },
  {
   "cell_type": "code",
   "execution_count": 2,
   "metadata": {},
   "outputs": [],
   "source": [
    "from f2b.f2b_estimation.data import Data\n",
    "from f2b.f2b_estimation.likelihood import Likelihood\n",
    "from f2b.postprocessing.output_analysis import load_estimated_f2b, get_estimation_results_and_indicators"
   ]
  },
  {
   "cell_type": "code",
   "execution_count": 3,
   "metadata": {},
   "outputs": [],
   "source": [
    "origin_station = \"VIN\"\n",
    "destination_stations = [\"NAT\", \"LYO\", \"CHL\", \"AUB\", \"ETO\", \"DEF\"]\n",
    "date = \"04/02/2020\"\n",
    "direction = 2"
   ]
  },
  {
   "cell_type": "code",
   "execution_count": 7,
   "metadata": {},
   "outputs": [
    {
     "name": "stdout",
     "output_type": "stream",
     "text": [
      "Trips construction...\n"
     ]
    },
    {
     "name": "stderr",
     "output_type": "stream",
     "text": [
      "100%|██████████| 8336/8336 [00:01<00:00, 4969.33it/s]\n"
     ]
    },
    {
     "name": "stdout",
     "output_type": "stream",
     "text": [
      "Runs construction...\n"
     ]
    },
    {
     "name": "stderr",
     "output_type": "stream",
     "text": [
      "100%|██████████| 317/317 [00:00<00:00, 3265.26it/s]\n"
     ]
    },
    {
     "name": "stdout",
     "output_type": "stream",
     "text": [
      "(Offline) Compute access and egress individual likelihood contributions...\n"
     ]
    },
    {
     "name": "stderr",
     "output_type": "stream",
     "text": [
      "100%|██████████| 8336/8336 [00:03<00:00, 2515.69it/s]\n"
     ]
    }
   ],
   "source": [
    "f2b_estimated = load_estimated_f2b(origin_station, \"line_search_refacto\")\n",
    "data = Data(date, origin_station, destination_stations, direction)\n",
    "likelihood = Likelihood(data, f2b_estimated)"
   ]
  },
  {
   "cell_type": "code",
   "execution_count": 23,
   "metadata": {},
   "outputs": [
    {
     "name": "stdout",
     "output_type": "stream",
     "text": [
      "(317, 317)\n"
     ]
    }
   ],
   "source": [
    "hessian = likelihood.get_global_log_likelihood_hessian()\n",
    "print(hessian.shape)"
   ]
  },
  {
   "cell_type": "code",
   "execution_count": 11,
   "metadata": {},
   "outputs": [
    {
     "data": {
      "text/plain": [
       "[(296, '      '),\n",
       " (304, 'ZUMO99'),\n",
       " (306, 'ZURE01'),\n",
       " (308, 'ZURE03'),\n",
       " (309, 'TAPI01'),\n",
       " (310, 'ZURE05'),\n",
       " (311, 'VIDA03'),\n",
       " (312, 'ZEBU07'),\n",
       " (313, 'ZEBU09'),\n",
       " (314, 'TEDI07'),\n",
       " (315, 'VIRO09'),\n",
       " (316, 'YVAN69')]"
      ]
     },
     "execution_count": 11,
     "metadata": {},
     "output_type": "execute_result"
    }
   ],
   "source": [
    "list_of_empty_runs = []\n",
    "for (run_position, run_code) in enumerate(data.runs_chronological_order):\n",
    "    if not data.runs[run_code].associated_trips:\n",
    "        list_of_empty_runs.append((run_position, run_code))\n",
    "list_of_empty_runs"
   ]
  },
  {
   "cell_type": "code",
   "execution_count": 24,
   "metadata": {},
   "outputs": [
    {
     "name": "stdout",
     "output_type": "stream",
     "text": [
      "296\n",
      "(316, 316)\n",
      "303\n",
      "(315, 315)\n",
      "304\n",
      "(314, 314)\n",
      "305\n",
      "(313, 313)\n",
      "305\n",
      "(312, 312)\n",
      "305\n",
      "(311, 311)\n",
      "305\n",
      "(310, 310)\n",
      "305\n",
      "(309, 309)\n",
      "305\n",
      "(308, 308)\n",
      "305\n",
      "(307, 307)\n",
      "305\n",
      "(306, 306)\n",
      "305\n",
      "(305, 305)\n"
     ]
    }
   ],
   "source": [
    "from numpy import delete\n",
    "successive_indices_to_delete = [list_of_empty_runs[i][0] - i for i in range(len(list_of_empty_runs))]\n",
    "\n",
    "for run_position in successive_indices_to_delete:\n",
    "    hessian = delete(hessian, run_position, 0)\n",
    "    hessian = delete(hessian, run_position, 1)\n",
    "    print(run_position)\n",
    "    print(hessian.shape)\n"
   ]
  },
  {
   "cell_type": "code",
   "execution_count": 25,
   "metadata": {},
   "outputs": [],
   "source": [
    "from numpy import linalg\n",
    "fischer_info = -hessian\n",
    "asymptotic_variance = linalg.inv(fischer_info)"
   ]
  },
  {
   "cell_type": "code",
   "execution_count": 28,
   "metadata": {},
   "outputs": [],
   "source": [
    "gradient = likelihood.get_global_log_likelihood_gradient()"
   ]
  }
 ],
 "metadata": {
  "interpreter": {
   "hash": "3359536f1b3a3a71df2bab71fa121664c1c01b75943bdf02e01824766e7cd68f"
  },
  "kernelspec": {
   "display_name": "Python 3.8.10 ('new_venv': venv)",
   "language": "python",
   "name": "python3"
  },
  "language_info": {
   "codemirror_mode": {
    "name": "ipython",
    "version": 3
   },
   "file_extension": ".py",
   "mimetype": "text/x-python",
   "name": "python",
   "nbconvert_exporter": "python",
   "pygments_lexer": "ipython3",
   "version": "3.8.10"
  },
  "orig_nbformat": 4
 },
 "nbformat": 4,
 "nbformat_minor": 2
}
