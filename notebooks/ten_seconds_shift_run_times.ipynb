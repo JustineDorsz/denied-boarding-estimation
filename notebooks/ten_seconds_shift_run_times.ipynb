{
 "cells": [
  {
   "cell_type": "code",
   "execution_count": 39,
   "metadata": {},
   "outputs": [],
   "source": [
    "from f2b.f2b_estimation.data import Data\n",
    "from f2b.f2b_estimation.likelihood import Likelihood\n",
    "from f2b.f2b_estimation.maximum_likelihood_estimation import LineSearch\n",
    "from f2b.postprocessing.output_analysis import get_estimation_results_and_indicators"
   ]
  },
  {
   "cell_type": "code",
   "execution_count": 40,
   "metadata": {},
   "outputs": [],
   "source": [
    "from numpy import array\n",
    "from datetime import timedelta"
   ]
  },
  {
   "cell_type": "code",
   "execution_count": 41,
   "metadata": {},
   "outputs": [],
   "source": [
    "import os\n",
    "os.chdir('/home/justine/Nextcloud/Cired/Recherche/Econometrie/fail_to_board_probability/f2b_code')"
   ]
  },
  {
   "cell_type": "code",
   "execution_count": 42,
   "metadata": {},
   "outputs": [
    {
     "name": "stdout",
     "output_type": "stream",
     "text": [
      "Trips construction...\n"
     ]
    },
    {
     "name": "stderr",
     "output_type": "stream",
     "text": [
      "100%|██████████| 8336/8336 [00:01<00:00, 4822.89it/s]\n"
     ]
    },
    {
     "name": "stdout",
     "output_type": "stream",
     "text": [
      "Runs construction...\n"
     ]
    },
    {
     "name": "stderr",
     "output_type": "stream",
     "text": [
      "100%|██████████| 308/308 [00:00<00:00, 2431.06it/s]\n"
     ]
    }
   ],
   "source": [
    "origin_station = \"VIN\"\n",
    "destination_stations = [\"NAT\", \"LYO\", \"CHL\", \"AUB\", \"ETO\", \"DEF\"]\n",
    "date = \"04/02/2020\"\n",
    "direction = 2\n",
    "\n",
    "data = Data(date, origin_station, destination_stations, direction)\n",
    "f2b_probas = array([0.0 for _ in range(data.runs_number)])"
   ]
  },
  {
   "cell_type": "markdown",
   "metadata": {},
   "source": [
    "##### Shift all run's departure and arrival times at all stations."
   ]
  },
  {
   "cell_type": "code",
   "execution_count": 43,
   "metadata": {},
   "outputs": [],
   "source": [
    "for run_code in data.runs_chronological_order:\n",
    "    for departure_station_code in data.runs[run_code].departure_times:\n",
    "        data.runs[run_code].departure_times[departure_station_code] += timedelta(seconds = 10)\n",
    "    for arrival_station_code in data.runs[run_code].arrival_times:\n",
    "        data.runs[run_code].arrival_times[arrival_station_code] += timedelta(seconds = 10)"
   ]
  },
  {
   "cell_type": "markdown",
   "metadata": {},
   "source": [
    "##### Change runs <-> trips associations accordingly."
   ]
  },
  {
   "cell_type": "code",
   "execution_count": 44,
   "metadata": {},
   "outputs": [],
   "source": [
    "for run_code in data.runs_chronological_order:\n",
    "    data.runs[run_code].associated_trips = []\n",
    "    data.runs[run_code].associated_trips_number = 0\n",
    "\n",
    "for trip_id in data.trips:\n",
    "    data.trips[trip_id].associated_runs = []\n",
    "    data.trips[trip_id].associated_runs_number = 0\n",
    "    origin_station = data.trips[trip_id].access_station\n",
    "    destination_station = data.trips[trip_id].egress_station\n",
    "    for run_code in data.runs_chronological_order:\n",
    "        if data.runs[run_code].departure_times[origin_station] > data.trips[trip_id].access_time:\n",
    "            if destination_station in data.runs[run_code].arrival_times:\n",
    "                if data.runs[run_code].arrival_times[destination_station] < data.trips[trip_id].egress_time:\n",
    "                    data.trips[trip_id].associated_runs.append(run_code)\n",
    "                    data.trips[trip_id].associated_runs_number +=1\n",
    "\n",
    "                    data.runs[run_code].associated_trips.append(trip_id)\n",
    "                    data.runs[run_code].associated_trips_number += 1\n",
    "       \n"
   ]
  },
  {
   "cell_type": "code",
   "execution_count": 45,
   "metadata": {},
   "outputs": [
    {
     "name": "stdout",
     "output_type": "stream",
     "text": [
      "0\n",
      "0\n"
     ]
    }
   ],
   "source": [
    "matching_error1 = 0\n",
    "for trip_id in data.trips:\n",
    "    for run_code in data.trips[trip_id].associated_runs:\n",
    "        if trip_id not in data.runs[run_code].associated_trips:\n",
    "            matching_error1 += 1\n",
    "\n",
    "matching_error2 = 0\n",
    "for run_code in data.runs_chronological_order:\n",
    "    for trip_id in data.runs[run_code].associated_trips:\n",
    "        if run_code not in data.trips[trip_id].associated_runs:\n",
    "            matching_error2 += 1\n",
    "print(matching_error1)\n",
    "print(matching_error2)"
   ]
  },
  {
   "cell_type": "code",
   "execution_count": 50,
   "metadata": {},
   "outputs": [
    {
     "name": "stdout",
     "output_type": "stream",
     "text": [
      "2020-04-02 18:58:01\n",
      "2020-04-02 19:03:22\n"
     ]
    }
   ],
   "source": [
    "data.trips[593250].associated_runs\n",
    "print(data.runs['YSTO57'].departure_times['VIN'])\n",
    "print(data.runs['YSTO57'].arrival_times['LYO'])"
   ]
  },
  {
   "cell_type": "code",
   "execution_count": 51,
   "metadata": {},
   "outputs": [
    {
     "name": "stdout",
     "output_type": "stream",
     "text": [
      "(Offline) Compute access and egress individual likelihood contributions...\n"
     ]
    },
    {
     "name": "stderr",
     "output_type": "stream",
     "text": [
      "100%|██████████| 8336/8336 [00:03<00:00, 2421.84it/s]\n"
     ]
    },
    {
     "ename": "ValueError",
     "evalue": "math domain error",
     "output_type": "error",
     "traceback": [
      "\u001b[0;31m---------------------------------------------------------------------------\u001b[0m",
      "\u001b[0;31mValueError\u001b[0m                                Traceback (most recent call last)",
      "\u001b[1;32m/home/justine/Nextcloud/Cired/Recherche/Econometrie/fail_to_board_probability/f2b_code/notebooks/ten_seconds_shift_run_times.ipynb Cell 11'\u001b[0m in \u001b[0;36m<cell line: 1>\u001b[0;34m()\u001b[0m\n\u001b[0;32m----> <a href='vscode-notebook-cell:/home/justine/Nextcloud/Cired/Recherche/Econometrie/fail_to_board_probability/f2b_code/notebooks/ten_seconds_shift_run_times.ipynb#ch0000015?line=0'>1</a>\u001b[0m likelihood \u001b[39m=\u001b[39m Likelihood(data, f2b_probas)\n",
      "File \u001b[0;32m~/Nextcloud/Cired/Recherche/Econometrie/fail_to_board_probability/f2b_code/f2b/f2b_estimation/likelihood.py:161\u001b[0m, in \u001b[0;36mLikelihood.__init__\u001b[0;34m(self, data, f2b_probas)\u001b[0m\n\u001b[1;32m    <a href='file:///home/justine/Nextcloud/Cired/Recherche/Econometrie/fail_to_board_probability/f2b_code/f2b/f2b_estimation/likelihood.py?line=155'>156</a>\u001b[0m         egress_proba \u001b[39m=\u001b[39m station_egress_duration_distribution\u001b[39m.\u001b[39mpdf(\n\u001b[1;32m    <a href='file:///home/justine/Nextcloud/Cired/Recherche/Econometrie/fail_to_board_probability/f2b_code/f2b/f2b_estimation/likelihood.py?line=156'>157</a>\u001b[0m             egress_duration, \u001b[39m*\u001b[39m\u001b[39m*\u001b[39mstation_egress_duration_distribution_params\n\u001b[1;32m    <a href='file:///home/justine/Nextcloud/Cired/Recherche/Econometrie/fail_to_board_probability/f2b_code/f2b/f2b_estimation/likelihood.py?line=157'>158</a>\u001b[0m         )\n\u001b[1;32m    <a href='file:///home/justine/Nextcloud/Cired/Recherche/Econometrie/fail_to_board_probability/f2b_code/f2b/f2b_estimation/likelihood.py?line=158'>159</a>\u001b[0m         \u001b[39mself\u001b[39m\u001b[39m.\u001b[39megress_individual_contributions[trip_id, run_code] \u001b[39m=\u001b[39m egress_proba\n\u001b[0;32m--> <a href='file:///home/justine/Nextcloud/Cired/Recherche/Econometrie/fail_to_board_probability/f2b_code/f2b/f2b_estimation/likelihood.py?line=160'>161</a>\u001b[0m \u001b[39mself\u001b[39;49m\u001b[39m.\u001b[39;49m__initialize_f2b_probas(f2b_probas)\n",
      "File \u001b[0;32m~/Nextcloud/Cired/Recherche/Econometrie/fail_to_board_probability/f2b_code/f2b/f2b_estimation/likelihood.py:250\u001b[0m, in \u001b[0;36mLikelihood.__initialize_f2b_probas\u001b[0;34m(self, f2b_probas)\u001b[0m\n\u001b[1;32m    <a href='file:///home/justine/Nextcloud/Cired/Recherche/Econometrie/fail_to_board_probability/f2b_code/f2b/f2b_estimation/likelihood.py?line=246'>247</a>\u001b[0m \u001b[39mself\u001b[39m\u001b[39m.\u001b[39mindividual_log_likelihood_derivatives \u001b[39m=\u001b[39m {}\n\u001b[1;32m    <a href='file:///home/justine/Nextcloud/Cired/Recherche/Econometrie/fail_to_board_probability/f2b_code/f2b/f2b_estimation/likelihood.py?line=248'>249</a>\u001b[0m \u001b[39mfor\u001b[39;00m trip_id \u001b[39min\u001b[39;00m \u001b[39mself\u001b[39m\u001b[39m.\u001b[39mdata\u001b[39m.\u001b[39mtrips:\n\u001b[0;32m--> <a href='file:///home/justine/Nextcloud/Cired/Recherche/Econometrie/fail_to_board_probability/f2b_code/f2b/f2b_estimation/likelihood.py?line=249'>250</a>\u001b[0m     \u001b[39mself\u001b[39;49m\u001b[39m.\u001b[39;49m_update_attributes_by_trip_id(trip_id)\n",
      "File \u001b[0;32m~/Nextcloud/Cired/Recherche/Econometrie/fail_to_board_probability/f2b_code/f2b/f2b_estimation/likelihood.py:192\u001b[0m, in \u001b[0;36mLikelihood._update_attributes_by_trip_id\u001b[0;34m(self, trip_id)\u001b[0m\n\u001b[1;32m    <a href='file:///home/justine/Nextcloud/Cired/Recherche/Econometrie/fail_to_board_probability/f2b_code/f2b/f2b_estimation/likelihood.py?line=182'>183</a>\u001b[0m         \u001b[39mself\u001b[39m\u001b[39m.\u001b[39megress_auxiliary_variables[trip_id, run_code] \u001b[39m+\u001b[39m\u001b[39m=\u001b[39m (\n\u001b[1;32m    <a href='file:///home/justine/Nextcloud/Cired/Recherche/Econometrie/fail_to_board_probability/f2b_code/f2b/f2b_estimation/likelihood.py?line=183'>184</a>\u001b[0m             \u001b[39mself\u001b[39m\u001b[39m.\u001b[39mf2b_probas[run_position]\n\u001b[1;32m    <a href='file:///home/justine/Nextcloud/Cired/Recherche/Econometrie/fail_to_board_probability/f2b_code/f2b/f2b_estimation/likelihood.py?line=184'>185</a>\u001b[0m             \u001b[39m*\u001b[39m \u001b[39mself\u001b[39m\u001b[39m.\u001b[39megress_auxiliary_variables[trip_id, next_run_code]\n\u001b[1;32m    <a href='file:///home/justine/Nextcloud/Cired/Recherche/Econometrie/fail_to_board_probability/f2b_code/f2b/f2b_estimation/likelihood.py?line=185'>186</a>\u001b[0m         )\n\u001b[1;32m    <a href='file:///home/justine/Nextcloud/Cired/Recherche/Econometrie/fail_to_board_probability/f2b_code/f2b/f2b_estimation/likelihood.py?line=187'>188</a>\u001b[0m     individual_likelihood \u001b[39m+\u001b[39m\u001b[39m=\u001b[39m (\n\u001b[1;32m    <a href='file:///home/justine/Nextcloud/Cired/Recherche/Econometrie/fail_to_board_probability/f2b_code/f2b/f2b_estimation/likelihood.py?line=188'>189</a>\u001b[0m         \u001b[39mself\u001b[39m\u001b[39m.\u001b[39maccess_individual_contributions[trip_id, run_code]\n\u001b[1;32m    <a href='file:///home/justine/Nextcloud/Cired/Recherche/Econometrie/fail_to_board_probability/f2b_code/f2b/f2b_estimation/likelihood.py?line=189'>190</a>\u001b[0m         \u001b[39m*\u001b[39m \u001b[39mself\u001b[39m\u001b[39m.\u001b[39megress_auxiliary_variables[trip_id, run_code]\n\u001b[1;32m    <a href='file:///home/justine/Nextcloud/Cired/Recherche/Econometrie/fail_to_board_probability/f2b_code/f2b/f2b_estimation/likelihood.py?line=190'>191</a>\u001b[0m     )\n\u001b[0;32m--> <a href='file:///home/justine/Nextcloud/Cired/Recherche/Econometrie/fail_to_board_probability/f2b_code/f2b/f2b_estimation/likelihood.py?line=191'>192</a>\u001b[0m \u001b[39mself\u001b[39m\u001b[39m.\u001b[39mindividual_log_likelihoods[trip_id] \u001b[39m=\u001b[39m log(individual_likelihood)\n\u001b[1;32m    <a href='file:///home/justine/Nextcloud/Cired/Recherche/Econometrie/fail_to_board_probability/f2b_code/f2b/f2b_estimation/likelihood.py?line=193'>194</a>\u001b[0m \u001b[39m# update access auxiliary variables and derivative terms\u001b[39;00m\n\u001b[1;32m    <a href='file:///home/justine/Nextcloud/Cired/Recherche/Econometrie/fail_to_board_probability/f2b_code/f2b/f2b_estimation/likelihood.py?line=194'>195</a>\u001b[0m \u001b[39mfor\u001b[39;00m position, run_code \u001b[39min\u001b[39;00m \u001b[39menumerate\u001b[39m(\u001b[39mself\u001b[39m\u001b[39m.\u001b[39mdata\u001b[39m.\u001b[39mtrips[trip_id]\u001b[39m.\u001b[39massociated_runs):\n",
      "\u001b[0;31mValueError\u001b[0m: math domain error"
     ]
    }
   ],
   "source": [
    "likelihood = Likelihood(data, f2b_probas)"
   ]
  },
  {
   "cell_type": "code",
   "execution_count": 47,
   "metadata": {},
   "outputs": [
    {
     "name": "stdout",
     "output_type": "stream",
     "text": [
      "(Offline) Compute access and egress individual likelihood contributions...\n"
     ]
    },
    {
     "name": "stderr",
     "output_type": "stream",
     "text": [
      "100%|██████████| 8336/8336 [00:03<00:00, 2614.57it/s]\n"
     ]
    },
    {
     "ename": "ValueError",
     "evalue": "math domain error",
     "output_type": "error",
     "traceback": [
      "\u001b[0;31m---------------------------------------------------------------------------\u001b[0m",
      "\u001b[0;31mValueError\u001b[0m                                Traceback (most recent call last)",
      "\u001b[1;32m/home/justine/Nextcloud/Cired/Recherche/Econometrie/fail_to_board_probability/f2b_code/notebooks/ten_seconds_shift_run_times.ipynb Cell 11'\u001b[0m in \u001b[0;36m<cell line: 1>\u001b[0;34m()\u001b[0m\n\u001b[0;32m----> <a href='vscode-notebook-cell:/home/justine/Nextcloud/Cired/Recherche/Econometrie/fail_to_board_probability/f2b_code/notebooks/ten_seconds_shift_run_times.ipynb#ch0000003?line=0'>1</a>\u001b[0m likelihood \u001b[39m=\u001b[39m Likelihood(data, f2b_probas)\n\u001b[1;32m      <a href='vscode-notebook-cell:/home/justine/Nextcloud/Cired/Recherche/Econometrie/fail_to_board_probability/f2b_code/notebooks/ten_seconds_shift_run_times.ipynb#ch0000003?line=1'>2</a>\u001b[0m MLE \u001b[39m=\u001b[39m LineSearch(\n\u001b[1;32m      <a href='vscode-notebook-cell:/home/justine/Nextcloud/Cired/Recherche/Econometrie/fail_to_board_probability/f2b_code/notebooks/ten_seconds_shift_run_times.ipynb#ch0000003?line=2'>3</a>\u001b[0m     likelihood\u001b[39m=\u001b[39mlikelihood,\n\u001b[1;32m      <a href='vscode-notebook-cell:/home/justine/Nextcloud/Cired/Recherche/Econometrie/fail_to_board_probability/f2b_code/notebooks/ten_seconds_shift_run_times.ipynb#ch0000003?line=3'>4</a>\u001b[0m     initial_f2b_probas\u001b[39m=\u001b[39mf2b_probas,\n\u001b[0;32m   (...)\u001b[0m\n\u001b[1;32m      <a href='vscode-notebook-cell:/home/justine/Nextcloud/Cired/Recherche/Econometrie/fail_to_board_probability/f2b_code/notebooks/ten_seconds_shift_run_times.ipynb#ch0000003?line=7'>8</a>\u001b[0m     max_local_binary_iteration\u001b[39m=\u001b[39m\u001b[39m20\u001b[39m,\n\u001b[1;32m      <a href='vscode-notebook-cell:/home/justine/Nextcloud/Cired/Recherche/Econometrie/fail_to_board_probability/f2b_code/notebooks/ten_seconds_shift_run_times.ipynb#ch0000003?line=8'>9</a>\u001b[0m )\n\u001b[1;32m     <a href='vscode-notebook-cell:/home/justine/Nextcloud/Cired/Recherche/Econometrie/fail_to_board_probability/f2b_code/notebooks/ten_seconds_shift_run_times.ipynb#ch0000003?line=9'>10</a>\u001b[0m MLE\u001b[39m.\u001b[39mrun_iterative_optimization()\n",
      "File \u001b[0;32m~/Nextcloud/Cired/Recherche/Econometrie/fail_to_board_probability/f2b_code/f2b/f2b_estimation/likelihood.py:161\u001b[0m, in \u001b[0;36mLikelihood.__init__\u001b[0;34m(self, data, f2b_probas)\u001b[0m\n\u001b[1;32m    <a href='file:///home/justine/Nextcloud/Cired/Recherche/Econometrie/fail_to_board_probability/f2b_code/f2b/f2b_estimation/likelihood.py?line=155'>156</a>\u001b[0m         egress_proba \u001b[39m=\u001b[39m station_egress_duration_distribution\u001b[39m.\u001b[39mpdf(\n\u001b[1;32m    <a href='file:///home/justine/Nextcloud/Cired/Recherche/Econometrie/fail_to_board_probability/f2b_code/f2b/f2b_estimation/likelihood.py?line=156'>157</a>\u001b[0m             egress_duration, \u001b[39m*\u001b[39m\u001b[39m*\u001b[39mstation_egress_duration_distribution_params\n\u001b[1;32m    <a href='file:///home/justine/Nextcloud/Cired/Recherche/Econometrie/fail_to_board_probability/f2b_code/f2b/f2b_estimation/likelihood.py?line=157'>158</a>\u001b[0m         )\n\u001b[1;32m    <a href='file:///home/justine/Nextcloud/Cired/Recherche/Econometrie/fail_to_board_probability/f2b_code/f2b/f2b_estimation/likelihood.py?line=158'>159</a>\u001b[0m         \u001b[39mself\u001b[39m\u001b[39m.\u001b[39megress_individual_contributions[trip_id, run_code] \u001b[39m=\u001b[39m egress_proba\n\u001b[0;32m--> <a href='file:///home/justine/Nextcloud/Cired/Recherche/Econometrie/fail_to_board_probability/f2b_code/f2b/f2b_estimation/likelihood.py?line=160'>161</a>\u001b[0m \u001b[39mself\u001b[39;49m\u001b[39m.\u001b[39;49m__initialize_f2b_probas(f2b_probas)\n",
      "File \u001b[0;32m~/Nextcloud/Cired/Recherche/Econometrie/fail_to_board_probability/f2b_code/f2b/f2b_estimation/likelihood.py:250\u001b[0m, in \u001b[0;36mLikelihood.__initialize_f2b_probas\u001b[0;34m(self, f2b_probas)\u001b[0m\n\u001b[1;32m    <a href='file:///home/justine/Nextcloud/Cired/Recherche/Econometrie/fail_to_board_probability/f2b_code/f2b/f2b_estimation/likelihood.py?line=246'>247</a>\u001b[0m \u001b[39mself\u001b[39m\u001b[39m.\u001b[39mindividual_log_likelihood_derivatives \u001b[39m=\u001b[39m {}\n\u001b[1;32m    <a href='file:///home/justine/Nextcloud/Cired/Recherche/Econometrie/fail_to_board_probability/f2b_code/f2b/f2b_estimation/likelihood.py?line=248'>249</a>\u001b[0m \u001b[39mfor\u001b[39;00m trip_id \u001b[39min\u001b[39;00m \u001b[39mself\u001b[39m\u001b[39m.\u001b[39mdata\u001b[39m.\u001b[39mtrips:\n\u001b[0;32m--> <a href='file:///home/justine/Nextcloud/Cired/Recherche/Econometrie/fail_to_board_probability/f2b_code/f2b/f2b_estimation/likelihood.py?line=249'>250</a>\u001b[0m     \u001b[39mself\u001b[39;49m\u001b[39m.\u001b[39;49m_update_attributes_by_trip_id(trip_id)\n",
      "File \u001b[0;32m~/Nextcloud/Cired/Recherche/Econometrie/fail_to_board_probability/f2b_code/f2b/f2b_estimation/likelihood.py:192\u001b[0m, in \u001b[0;36mLikelihood._update_attributes_by_trip_id\u001b[0;34m(self, trip_id)\u001b[0m\n\u001b[1;32m    <a href='file:///home/justine/Nextcloud/Cired/Recherche/Econometrie/fail_to_board_probability/f2b_code/f2b/f2b_estimation/likelihood.py?line=182'>183</a>\u001b[0m         \u001b[39mself\u001b[39m\u001b[39m.\u001b[39megress_auxiliary_variables[trip_id, run_code] \u001b[39m+\u001b[39m\u001b[39m=\u001b[39m (\n\u001b[1;32m    <a href='file:///home/justine/Nextcloud/Cired/Recherche/Econometrie/fail_to_board_probability/f2b_code/f2b/f2b_estimation/likelihood.py?line=183'>184</a>\u001b[0m             \u001b[39mself\u001b[39m\u001b[39m.\u001b[39mf2b_probas[run_position]\n\u001b[1;32m    <a href='file:///home/justine/Nextcloud/Cired/Recherche/Econometrie/fail_to_board_probability/f2b_code/f2b/f2b_estimation/likelihood.py?line=184'>185</a>\u001b[0m             \u001b[39m*\u001b[39m \u001b[39mself\u001b[39m\u001b[39m.\u001b[39megress_auxiliary_variables[trip_id, next_run_code]\n\u001b[1;32m    <a href='file:///home/justine/Nextcloud/Cired/Recherche/Econometrie/fail_to_board_probability/f2b_code/f2b/f2b_estimation/likelihood.py?line=185'>186</a>\u001b[0m         )\n\u001b[1;32m    <a href='file:///home/justine/Nextcloud/Cired/Recherche/Econometrie/fail_to_board_probability/f2b_code/f2b/f2b_estimation/likelihood.py?line=187'>188</a>\u001b[0m     individual_likelihood \u001b[39m+\u001b[39m\u001b[39m=\u001b[39m (\n\u001b[1;32m    <a href='file:///home/justine/Nextcloud/Cired/Recherche/Econometrie/fail_to_board_probability/f2b_code/f2b/f2b_estimation/likelihood.py?line=188'>189</a>\u001b[0m         \u001b[39mself\u001b[39m\u001b[39m.\u001b[39maccess_individual_contributions[trip_id, run_code]\n\u001b[1;32m    <a href='file:///home/justine/Nextcloud/Cired/Recherche/Econometrie/fail_to_board_probability/f2b_code/f2b/f2b_estimation/likelihood.py?line=189'>190</a>\u001b[0m         \u001b[39m*\u001b[39m \u001b[39mself\u001b[39m\u001b[39m.\u001b[39megress_auxiliary_variables[trip_id, run_code]\n\u001b[1;32m    <a href='file:///home/justine/Nextcloud/Cired/Recherche/Econometrie/fail_to_board_probability/f2b_code/f2b/f2b_estimation/likelihood.py?line=190'>191</a>\u001b[0m     )\n\u001b[0;32m--> <a href='file:///home/justine/Nextcloud/Cired/Recherche/Econometrie/fail_to_board_probability/f2b_code/f2b/f2b_estimation/likelihood.py?line=191'>192</a>\u001b[0m \u001b[39mself\u001b[39m\u001b[39m.\u001b[39mindividual_log_likelihoods[trip_id] \u001b[39m=\u001b[39m log(individual_likelihood)\n\u001b[1;32m    <a href='file:///home/justine/Nextcloud/Cired/Recherche/Econometrie/fail_to_board_probability/f2b_code/f2b/f2b_estimation/likelihood.py?line=193'>194</a>\u001b[0m \u001b[39m# update access auxiliary variables and derivative terms\u001b[39;00m\n\u001b[1;32m    <a href='file:///home/justine/Nextcloud/Cired/Recherche/Econometrie/fail_to_board_probability/f2b_code/f2b/f2b_estimation/likelihood.py?line=194'>195</a>\u001b[0m \u001b[39mfor\u001b[39;00m position, run_code \u001b[39min\u001b[39;00m \u001b[39menumerate\u001b[39m(\u001b[39mself\u001b[39m\u001b[39m.\u001b[39mdata\u001b[39m.\u001b[39mtrips[trip_id]\u001b[39m.\u001b[39massociated_runs):\n",
      "\u001b[0;31mValueError\u001b[0m: math domain error"
     ]
    }
   ],
   "source": [
    "MLE = LineSearch(\n",
    "    likelihood=likelihood,\n",
    "    initial_f2b_probas=f2b_probas,\n",
    "    global_tolerance=0.1,\n",
    "    max_iteration=8,\n",
    "    local_tolerance=0.01,\n",
    "    max_local_binary_iteration=20,\n",
    ")\n",
    "MLE.run_iterative_optimization()\n",
    "print(MLE.log_likelihood_by_iteration)\n"
   ]
  },
  {
   "cell_type": "code",
   "execution_count": null,
   "metadata": {},
   "outputs": [
    {
     "name": "stdout",
     "output_type": "stream",
     "text": [
      "count    143.000000\n",
      "mean       0.000268\n",
      "std        0.001144\n",
      "min       -0.001348\n",
      "25%        0.000019\n",
      "50%        0.000055\n",
      "75%        0.000150\n",
      "max        0.011979\n",
      "Name: asymptotic_confidence, dtype: float64\n"
     ]
    }
   ],
   "source": [
    "estimation_results = get_estimation_results_and_indicators(data, likelihood)\n",
    "estimation_results_non_zero_proba = estimation_results[\n",
    "    estimation_results[\"estimated_f2b\"] != 0\n",
    "].copy()\n",
    "print(estimation_results_non_zero_proba[\"asymptotic_confidence\"].describe())\n",
    "estimation_results.to_csv(f\"output/estimation_info_plus_10s_{origin_station}.csv\")"
   ]
  },
  {
   "cell_type": "code",
   "execution_count": null,
   "metadata": {},
   "outputs": [],
   "source": []
  }
 ],
 "metadata": {
  "interpreter": {
   "hash": "3359536f1b3a3a71df2bab71fa121664c1c01b75943bdf02e01824766e7cd68f"
  },
  "kernelspec": {
   "display_name": "Python 3.8.10 ('new_venv': venv)",
   "language": "python",
   "name": "python3"
  },
  "language_info": {
   "codemirror_mode": {
    "name": "ipython",
    "version": 3
   },
   "file_extension": ".py",
   "mimetype": "text/x-python",
   "name": "python",
   "nbconvert_exporter": "python",
   "pygments_lexer": "ipython3",
   "version": "3.8.10"
  },
  "orig_nbformat": 4
 },
 "nbformat": 4,
 "nbformat_minor": 2
}
